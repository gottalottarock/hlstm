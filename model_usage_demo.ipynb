{
 "cells": [
  {
   "cell_type": "code",
   "execution_count": 3,
   "metadata": {
    "ExecuteTime": {
     "end_time": "2017-12-18T22:13:45.626437Z",
     "start_time": "2017-12-19T01:13:38.132084+03:00"
    },
    "collapsed": false,
    "deletable": true,
    "editable": true
   },
   "outputs": [],
   "source": [
    "import hlstm\n",
    "import pandas as pd\n",
    "import tensorflow as tf\n",
    "import random"
   ]
  },
  {
   "cell_type": "code",
   "execution_count": 4,
   "metadata": {
    "ExecuteTime": {
     "end_time": "2017-12-18T22:13:46.878250Z",
     "start_time": "2017-12-19T01:13:46.874402+03:00"
    },
    "collapsed": false,
    "deletable": true,
    "editable": true
   },
   "outputs": [],
   "source": [
    "path_to_gensim_keyed_vectors = \"/media/stepan/Файлы/tutorials/word2vec/movie-plots-by-genre/GoogleNews-vectors-negative300.bin.gz\""
   ]
  },
  {
   "cell_type": "code",
   "execution_count": null,
   "metadata": {
    "ExecuteTime": {
     "start_time": "2017-12-18T22:13:47.257Z"
    },
    "collapsed": false,
    "deletable": true,
    "editable": true
   },
   "outputs": [],
   "source": [
    "weights, vocab = hlstm.prepare_embedding(path_to_gensim_keyed_vectors, limit = 1000000,corpus_vocab_path='./data/vocab')"
   ]
  },
  {
   "cell_type": "markdown",
   "metadata": {
    "deletable": true,
    "editable": true
   },
   "source": [
    "последня строка в weights"
   ]
  },
  {
   "cell_type": "code",
   "execution_count": null,
   "metadata": {
    "ExecuteTime": {
     "start_time": "2017-12-18T22:13:49.777Z"
    },
    "collapsed": false,
    "deletable": true,
    "editable": true
   },
   "outputs": [],
   "source": [
    "print(\"vocabulary length: %d\\nweights shape: %s\" % (len(vocab), weights.shape))"
   ]
  },
  {
   "cell_type": "code",
   "execution_count": null,
   "metadata": {
    "ExecuteTime": {
     "start_time": "2017-12-18T22:13:50.381Z"
    },
    "collapsed": false,
    "deletable": true,
    "editable": true
   },
   "outputs": [],
   "source": [
    "labels, train_texts = hlstm.prepare_labels(\"./data/reuters_trees.csv\")"
   ]
  },
  {
   "cell_type": "code",
   "execution_count": 6,
   "metadata": {
    "ExecuteTime": {
     "end_time": "2017-12-11T12:18:43.606801Z",
     "start_time": "2017-12-11T15:18:43.602795+03:00"
    },
    "collapsed": false,
    "deletable": true,
    "editable": true
   },
   "outputs": [
    {
     "name": "stdout",
     "output_type": "stream",
     "text": [
      "labels: ['earn', 'coffee', 'acq', 'sugar', 'trade', 'ship', 'money-supply', 'crude', 'interest', 'money-fx']\n",
      "texts length: 7518\n"
     ]
    }
   ],
   "source": [
    "print(\"labels: %s\\ntexts length: %s\" % (labels,len(train_texts)))"
   ]
  },
  {
   "cell_type": "code",
   "execution_count": 7,
   "metadata": {
    "ExecuteTime": {
     "end_time": "2017-12-11T12:18:47.302164Z",
     "start_time": "2017-12-11T15:18:46.295895+03:00"
    },
    "collapsed": false,
    "deletable": true,
    "editable": true
   },
   "outputs": [],
   "source": [
    "sess = tf.InteractiveSession(config=tf.ConfigProto(\n",
    "      allow_soft_placement=True, log_device_placement=True))"
   ]
  },
  {
   "cell_type": "code",
   "execution_count": 8,
   "metadata": {
    "ExecuteTime": {
     "end_time": "2017-12-11T12:18:47.592672Z",
     "start_time": "2017-12-11T15:18:47.303359+03:00"
    },
    "collapsed": false,
    "deletable": true,
    "editable": true
   },
   "outputs": [],
   "source": [
    "tree_lstm = hlstm.BinaryTreeLSTM(weights, vocab, tree_lstm_num_units=50)"
   ]
  },
  {
   "cell_type": "code",
   "execution_count": 9,
   "metadata": {
    "ExecuteTime": {
     "end_time": "2017-12-11T12:18:48.487357Z",
     "start_time": "2017-12-11T15:18:47.732248+03:00"
    },
    "collapsed": false,
    "deletable": true,
    "editable": true
   },
   "outputs": [
    {
     "name": "stdout",
     "output_type": "stream",
     "text": [
      "input type: PyObjectType()\n",
      "output type: TensorType((10,), 'float32')\n"
     ]
    }
   ],
   "source": [
    "model = hlstm.HLSTMModel(sess, tree_lstm, sent_lstm_num_units=100, num_classes=len(labels))"
   ]
  },
  {
   "cell_type": "code",
   "execution_count": 10,
   "metadata": {
    "ExecuteTime": {
     "end_time": "2017-12-11T12:18:49.987167Z",
     "start_time": "2017-12-11T15:18:49.983825+03:00"
    },
    "collapsed": false,
    "deletable": true,
    "editable": true
   },
   "outputs": [],
   "source": [
    "model_interface = hlstm.HLSTMInterface(model)"
   ]
  },
  {
   "cell_type": "code",
   "execution_count": 11,
   "metadata": {
    "ExecuteTime": {
     "end_time": "2017-12-11T09:05:30.378741Z",
     "start_time": "2017-12-11T12:03:03.509477+03:00"
    },
    "collapsed": false,
    "deletable": false,
    "editable": false,
    "run_control": {
     "frozen": true
    }
   },
   "outputs": [
    {
     "name": "stdout",
     "output_type": "stream",
     "text": [
      "session number: 0 with name: train_12_11_12_03 started\n"
     ]
    },
    {
     "name": "stderr",
     "output_type": "stream",
     "text": [
      "/usr/local/lib/python3.5/dist-packages/tensorflow/python/ops/gradients_impl.py:91: UserWarning: Converting sparse IndexedSlices to a dense Tensor of unknown shape. This may consume a large amount of memory.\n",
      "  \"Converting sparse IndexedSlices to a dense Tensor of unknown shape. \"\n"
     ]
    },
    {
     "name": "stdout",
     "output_type": "stream",
     "text": [
      "Start epoch  1\n",
      "Training took 109.73 s.\n",
      "Evaluation took 6.71 s.\n",
      "Model saved to /tmp/tmp452hk2j1/12_11_12_05-1\n",
      "epoch:   1, train_loss: 4.181e+03, dev_accuracy:  root_hits: 0.92 root_loss: 0.30\n",
      "\n",
      "Start epoch  2\n",
      "Training took 19.54 s.\n",
      "Evaluation took 0.36 s.\n",
      "Model saved to /tmp/tmp452hk2j1/12_11_12_05-2\n",
      "epoch:   2, train_loss: 9.282e+02, dev_accuracy:  root_hits: 0.95 root_loss: 0.23\n",
      "\n",
      "session number: 0 with name: train_12_11_12_03 stoped and recorded\n"
     ]
    }
   ],
   "source": [
    "random.shuffle(train_texts)\n",
    "logs = model_interface.train(train_set = train_texts[:7000], test_set = train_texts[7000:], epochs=2)"
   ]
  },
  {
   "cell_type": "code",
   "execution_count": 13,
   "metadata": {
    "ExecuteTime": {
     "end_time": "2017-12-11T12:24:08.184837Z",
     "start_time": "2017-12-11T15:21:37.068922+03:00"
    },
    "collapsed": false,
    "deletable": false,
    "editable": false,
    "run_control": {
     "frozen": true
    }
   },
   "outputs": [
    {
     "name": "stdout",
     "output_type": "stream",
     "text": [
      "session number: 0 with name: train_12_11_15_21 started\n"
     ]
    },
    {
     "name": "stderr",
     "output_type": "stream",
     "text": [
      "/usr/local/lib/python3.5/dist-packages/tensorflow/python/ops/gradients_impl.py:91: UserWarning: Converting sparse IndexedSlices to a dense Tensor of unknown shape. This may consume a large amount of memory.\n",
      "  \"Converting sparse IndexedSlices to a dense Tensor of unknown shape. \"\n"
     ]
    },
    {
     "name": "stdout",
     "output_type": "stream",
     "text": [
      "Start epoch  1\n",
      "Training took 116.07 s.\n",
      "Evaluation took 6.70 s.\n",
      "epoch:   1, train_loss: 3.867e+03, dev_accuracy:  root_hits: 0.91 root_loss: 0.29\n",
      "\n",
      "Start epoch  2\n",
      "Training took 25.90 s.\n",
      "Evaluation took 0.35 s.\n",
      "epoch:   2, train_loss: 8.722e+02, dev_accuracy:  root_hits: 0.93 root_loss: 0.26\n",
      "\n",
      "session number: 0 with name: train_12_11_15_21 stoped and recorded\n"
     ]
    }
   ],
   "source": [
    "random.shuffle(train_texts)\n",
    "logs = model_interface.train(train_set = train_texts[:7000], test_set = train_texts[7000:], epochs=2, save=False)"
   ]
  },
  {
   "cell_type": "code",
   "execution_count": 22,
   "metadata": {
    "ExecuteTime": {
     "end_time": "2017-12-11T13:28:26.019295Z",
     "start_time": "2017-12-11T16:28:22.040868+03:00"
    },
    "collapsed": false,
    "deletable": true,
    "editable": true
   },
   "outputs": [
    {
     "name": "stdout",
     "output_type": "stream",
     "text": [
      "EMPTY session 2 with name: train_12_11_15_35 stoped and NOT recorded\n",
      "session number: 2 with name: train_12_11_16_28 started\n"
     ]
    },
    {
     "name": "stderr",
     "output_type": "stream",
     "text": [
      "/usr/local/lib/python3.5/dist-packages/tensorflow/python/ops/gradients_impl.py:91: UserWarning: Converting sparse IndexedSlices to a dense Tensor of unknown shape. This may consume a large amount of memory.\n",
      "  \"Converting sparse IndexedSlices to a dense Tensor of unknown shape. \"\n"
     ]
    },
    {
     "name": "stdout",
     "output_type": "stream",
     "text": [
      "Start epoch  1\n"
     ]
    },
    {
     "ename": "FailedPreconditionError",
     "evalue": "Attempting to use uninitialized value beta1_power_4\n\t [[Node: beta1_power_4/read = Identity[T=DT_FLOAT, _class=[\"loc:@word_embedding/weights\"], _device=\"/job:localhost/replica:0/task:0/gpu:0\"](beta1_power_4)]]\n\nCaused by op 'beta1_power_4/read', defined at:\n  File \"/usr/lib/python3.5/runpy.py\", line 184, in _run_module_as_main\n    \"__main__\", mod_spec)\n  File \"/usr/lib/python3.5/runpy.py\", line 85, in _run_code\n    exec(code, run_globals)\n  File \"/usr/local/lib/python3.5/dist-packages/ipykernel/__main__.py\", line 3, in <module>\n    app.launch_new_instance()\n  File \"/usr/local/lib/python3.5/dist-packages/traitlets/config/application.py\", line 658, in launch_instance\n    app.start()\n  File \"/usr/local/lib/python3.5/dist-packages/ipykernel/kernelapp.py\", line 474, in start\n    ioloop.IOLoop.instance().start()\n  File \"/usr/local/lib/python3.5/dist-packages/zmq/eventloop/ioloop.py\", line 177, in start\n    super(ZMQIOLoop, self).start()\n  File \"/usr/local/lib/python3.5/dist-packages/tornado/ioloop.py\", line 887, in start\n    handler_func(fd_obj, events)\n  File \"/usr/local/lib/python3.5/dist-packages/tornado/stack_context.py\", line 275, in null_wrapper\n    return fn(*args, **kwargs)\n  File \"/usr/local/lib/python3.5/dist-packages/zmq/eventloop/zmqstream.py\", line 440, in _handle_events\n    self._handle_recv()\n  File \"/usr/local/lib/python3.5/dist-packages/zmq/eventloop/zmqstream.py\", line 472, in _handle_recv\n    self._run_callback(callback, msg)\n  File \"/usr/local/lib/python3.5/dist-packages/zmq/eventloop/zmqstream.py\", line 414, in _run_callback\n    callback(*args, **kwargs)\n  File \"/usr/local/lib/python3.5/dist-packages/tornado/stack_context.py\", line 275, in null_wrapper\n    return fn(*args, **kwargs)\n  File \"/usr/local/lib/python3.5/dist-packages/ipykernel/kernelbase.py\", line 276, in dispatcher\n    return self.dispatch_shell(stream, msg)\n  File \"/usr/local/lib/python3.5/dist-packages/ipykernel/kernelbase.py\", line 228, in dispatch_shell\n    handler(stream, idents, msg)\n  File \"/usr/local/lib/python3.5/dist-packages/ipykernel/kernelbase.py\", line 390, in execute_request\n    user_expressions, allow_stdin)\n  File \"/usr/local/lib/python3.5/dist-packages/ipykernel/ipkernel.py\", line 196, in do_execute\n    res = shell.run_cell(code, store_history=store_history, silent=silent)\n  File \"/usr/local/lib/python3.5/dist-packages/ipykernel/zmqshell.py\", line 501, in run_cell\n    return super(ZMQInteractiveShell, self).run_cell(*args, **kwargs)\n  File \"/usr/local/lib/python3.5/dist-packages/IPython/core/interactiveshell.py\", line 2717, in run_cell\n    interactivity=interactivity, compiler=compiler, result=result)\n  File \"/usr/local/lib/python3.5/dist-packages/IPython/core/interactiveshell.py\", line 2821, in run_ast_nodes\n    if self.run_code(code, result):\n  File \"/usr/local/lib/python3.5/dist-packages/IPython/core/interactiveshell.py\", line 2881, in run_code\n    exec(code_obj, self.user_global_ns, self.user_ns)\n  File \"<ipython-input-22-460e752a14d6>\", line 2, in <module>\n    logs = model_interface.train(train_set = train_texts[:7000], test_set = train_texts[7000:], epochs=2, save=False, init = False)\n  File \"/media/stepan/Файлы/yaDisk/projects/hierarchical_LSTM/hlstm/interface.py\", line 30, in train\n    self.model.prepare_training(**property_dict)\n  File \"/media/stepan/Файлы/yaDisk/projects/hierarchical_LSTM/hlstm/hlstm_model.py\", line 89, in prepare_training\n    self.train = self.prepare_word_embedding_gradients()\n  File \"/media/stepan/Файлы/yaDisk/projects/hierarchical_LSTM/hlstm/hlstm_model.py\", line 102, in prepare_word_embedding_gradients\n    self.train_grad = self.opt.apply_gradients(grads_and_vars)\n  File \"/usr/local/lib/python3.5/dist-packages/tensorflow/python/training/optimizer.py\", line 412, in apply_gradients\n    self._create_slots(var_list)\n  File \"/usr/local/lib/python3.5/dist-packages/tensorflow/python/training/adam.py\", line 113, in _create_slots\n    trainable=False)\n  File \"/usr/local/lib/python3.5/dist-packages/tensorflow/python/ops/variables.py\", line 226, in __init__\n    expected_shape=expected_shape)\n  File \"/usr/local/lib/python3.5/dist-packages/tensorflow/python/ops/variables.py\", line 344, in _init_from_args\n    self._snapshot = array_ops.identity(self._variable, name=\"read\")\n  File \"/usr/local/lib/python3.5/dist-packages/tensorflow/python/ops/gen_array_ops.py\", line 1490, in identity\n    result = _op_def_lib.apply_op(\"Identity\", input=input, name=name)\n  File \"/usr/local/lib/python3.5/dist-packages/tensorflow/python/framework/op_def_library.py\", line 763, in apply_op\n    op_def=op_def)\n  File \"/usr/local/lib/python3.5/dist-packages/tensorflow/python/framework/ops.py\", line 2395, in create_op\n    original_op=self._default_original_op, op_def=op_def)\n  File \"/usr/local/lib/python3.5/dist-packages/tensorflow/python/framework/ops.py\", line 1264, in __init__\n    self._traceback = _extract_stack()\n\nFailedPreconditionError (see above for traceback): Attempting to use uninitialized value beta1_power_4\n\t [[Node: beta1_power_4/read = Identity[T=DT_FLOAT, _class=[\"loc:@word_embedding/weights\"], _device=\"/job:localhost/replica:0/task:0/gpu:0\"](beta1_power_4)]]\n",
     "output_type": "error",
     "traceback": [
      "\u001b[0;31m---------------------------------------------------------------------------\u001b[0m",
      "\u001b[0;31mFailedPreconditionError\u001b[0m                   Traceback (most recent call last)",
      "\u001b[0;32m/usr/local/lib/python3.5/dist-packages/tensorflow/python/client/session.py\u001b[0m in \u001b[0;36m_do_call\u001b[0;34m(self, fn, *args)\u001b[0m\n\u001b[1;32m   1021\u001b[0m     \u001b[0;32mtry\u001b[0m\u001b[0;34m:\u001b[0m\u001b[0;34m\u001b[0m\u001b[0m\n\u001b[0;32m-> 1022\u001b[0;31m       \u001b[0;32mreturn\u001b[0m \u001b[0mfn\u001b[0m\u001b[0;34m(\u001b[0m\u001b[0;34m*\u001b[0m\u001b[0margs\u001b[0m\u001b[0;34m)\u001b[0m\u001b[0;34m\u001b[0m\u001b[0m\n\u001b[0m\u001b[1;32m   1023\u001b[0m     \u001b[0;32mexcept\u001b[0m \u001b[0merrors\u001b[0m\u001b[0;34m.\u001b[0m\u001b[0mOpError\u001b[0m \u001b[0;32mas\u001b[0m \u001b[0me\u001b[0m\u001b[0;34m:\u001b[0m\u001b[0;34m\u001b[0m\u001b[0m\n",
      "\u001b[0;32m/usr/local/lib/python3.5/dist-packages/tensorflow/python/client/session.py\u001b[0m in \u001b[0;36m_run_fn\u001b[0;34m(session, feed_dict, fetch_list, target_list, options, run_metadata)\u001b[0m\n\u001b[1;32m   1003\u001b[0m                                  \u001b[0mfeed_dict\u001b[0m\u001b[0;34m,\u001b[0m \u001b[0mfetch_list\u001b[0m\u001b[0;34m,\u001b[0m \u001b[0mtarget_list\u001b[0m\u001b[0;34m,\u001b[0m\u001b[0;34m\u001b[0m\u001b[0m\n\u001b[0;32m-> 1004\u001b[0;31m                                  status, run_metadata)\n\u001b[0m\u001b[1;32m   1005\u001b[0m \u001b[0;34m\u001b[0m\u001b[0m\n",
      "\u001b[0;32m/usr/lib/python3.5/contextlib.py\u001b[0m in \u001b[0;36m__exit__\u001b[0;34m(self, type, value, traceback)\u001b[0m\n\u001b[1;32m     65\u001b[0m             \u001b[0;32mtry\u001b[0m\u001b[0;34m:\u001b[0m\u001b[0;34m\u001b[0m\u001b[0m\n\u001b[0;32m---> 66\u001b[0;31m                 \u001b[0mnext\u001b[0m\u001b[0;34m(\u001b[0m\u001b[0mself\u001b[0m\u001b[0;34m.\u001b[0m\u001b[0mgen\u001b[0m\u001b[0;34m)\u001b[0m\u001b[0;34m\u001b[0m\u001b[0m\n\u001b[0m\u001b[1;32m     67\u001b[0m             \u001b[0;32mexcept\u001b[0m \u001b[0mStopIteration\u001b[0m\u001b[0;34m:\u001b[0m\u001b[0;34m\u001b[0m\u001b[0m\n",
      "\u001b[0;32m/usr/local/lib/python3.5/dist-packages/tensorflow/python/framework/errors_impl.py\u001b[0m in \u001b[0;36mraise_exception_on_not_ok_status\u001b[0;34m()\u001b[0m\n\u001b[1;32m    468\u001b[0m           \u001b[0mcompat\u001b[0m\u001b[0;34m.\u001b[0m\u001b[0mas_text\u001b[0m\u001b[0;34m(\u001b[0m\u001b[0mpywrap_tensorflow\u001b[0m\u001b[0;34m.\u001b[0m\u001b[0mTF_Message\u001b[0m\u001b[0;34m(\u001b[0m\u001b[0mstatus\u001b[0m\u001b[0;34m)\u001b[0m\u001b[0;34m)\u001b[0m\u001b[0;34m,\u001b[0m\u001b[0;34m\u001b[0m\u001b[0m\n\u001b[0;32m--> 469\u001b[0;31m           pywrap_tensorflow.TF_GetCode(status))\n\u001b[0m\u001b[1;32m    470\u001b[0m   \u001b[0;32mfinally\u001b[0m\u001b[0;34m:\u001b[0m\u001b[0;34m\u001b[0m\u001b[0m\n",
      "\u001b[0;31mFailedPreconditionError\u001b[0m: Attempting to use uninitialized value beta1_power_4\n\t [[Node: beta1_power_4/read = Identity[T=DT_FLOAT, _class=[\"loc:@word_embedding/weights\"], _device=\"/job:localhost/replica:0/task:0/gpu:0\"](beta1_power_4)]]",
      "\nDuring handling of the above exception, another exception occurred:\n",
      "\u001b[0;31mFailedPreconditionError\u001b[0m                   Traceback (most recent call last)",
      "\u001b[0;32m<ipython-input-22-460e752a14d6>\u001b[0m in \u001b[0;36m<module>\u001b[0;34m()\u001b[0m\n\u001b[1;32m      1\u001b[0m \u001b[0mmodel_interface\u001b[0m\u001b[0;34m.\u001b[0m\u001b[0mmodel\u001b[0m\u001b[0;34m.\u001b[0m\u001b[0msess\u001b[0m\u001b[0;34m.\u001b[0m\u001b[0mrun\u001b[0m\u001b[0;34m(\u001b[0m\u001b[0mtf\u001b[0m\u001b[0;34m.\u001b[0m\u001b[0mglobal_variables_initializer\u001b[0m\u001b[0;34m(\u001b[0m\u001b[0;34m)\u001b[0m\u001b[0;34m)\u001b[0m\u001b[0;34m\u001b[0m\u001b[0m\n\u001b[0;32m----> 2\u001b[0;31m \u001b[0mlogs\u001b[0m \u001b[0;34m=\u001b[0m \u001b[0mmodel_interface\u001b[0m\u001b[0;34m.\u001b[0m\u001b[0mtrain\u001b[0m\u001b[0;34m(\u001b[0m\u001b[0mtrain_set\u001b[0m \u001b[0;34m=\u001b[0m \u001b[0mtrain_texts\u001b[0m\u001b[0;34m[\u001b[0m\u001b[0;34m:\u001b[0m\u001b[0;36m7000\u001b[0m\u001b[0;34m]\u001b[0m\u001b[0;34m,\u001b[0m \u001b[0mtest_set\u001b[0m \u001b[0;34m=\u001b[0m \u001b[0mtrain_texts\u001b[0m\u001b[0;34m[\u001b[0m\u001b[0;36m7000\u001b[0m\u001b[0;34m:\u001b[0m\u001b[0;34m]\u001b[0m\u001b[0;34m,\u001b[0m \u001b[0mepochs\u001b[0m\u001b[0;34m=\u001b[0m\u001b[0;36m2\u001b[0m\u001b[0;34m,\u001b[0m \u001b[0msave\u001b[0m\u001b[0;34m=\u001b[0m\u001b[0;32mFalse\u001b[0m\u001b[0;34m,\u001b[0m \u001b[0minit\u001b[0m \u001b[0;34m=\u001b[0m \u001b[0;32mFalse\u001b[0m\u001b[0;34m)\u001b[0m\u001b[0;34m\u001b[0m\u001b[0m\n\u001b[0m",
      "\u001b[0;32m/media/stepan/Файлы/yaDisk/projects/hierarchical_LSTM/hlstm/interface.py\u001b[0m in \u001b[0;36mtrain\u001b[0;34m(self, train_set, test_set, epochs, dev_batch_size, save, save_model_dir, sess_name, func_set_info_dict, **property_dict)\u001b[0m\n\u001b[1;32m     33\u001b[0m                                                \u001b[0mepochs\u001b[0m\u001b[0;34m=\u001b[0m\u001b[0mepochs\u001b[0m\u001b[0;34m,\u001b[0m \u001b[0msave\u001b[0m\u001b[0;34m=\u001b[0m\u001b[0msave\u001b[0m\u001b[0;34m,\u001b[0m\u001b[0;34m\u001b[0m\u001b[0m\n\u001b[1;32m     34\u001b[0m                                                save_dir=save_model_dir)\n\u001b[0;32m---> 35\u001b[0;31m         \u001b[0;32mfor\u001b[0m \u001b[0mepoch_res\u001b[0m\u001b[0;34m,\u001b[0m \u001b[0mall_res\u001b[0m \u001b[0;32min\u001b[0m \u001b[0mtrain_epochs\u001b[0m\u001b[0;34m:\u001b[0m\u001b[0;34m\u001b[0m\u001b[0m\n\u001b[0m\u001b[1;32m     36\u001b[0m             \u001b[0;32mpass\u001b[0m\u001b[0;34m\u001b[0m\u001b[0m\n\u001b[1;32m     37\u001b[0m         self.logger.record_train_logs(model_properies=self.model.model_properties,\n",
      "\u001b[0;32m/media/stepan/Файлы/yaDisk/projects/hierarchical_LSTM/hlstm/hlstm_model.py\u001b[0m in \u001b[0;36mtrain_epochs\u001b[0;34m(self, train_set, dev_set, epochs, dev_batch_size, save, save_dir)\u001b[0m\n\u001b[1;32m    150\u001b[0m             \u001b[0mepoch_res\u001b[0m\u001b[0;34m[\u001b[0m\u001b[0;34m'EPOCH'\u001b[0m\u001b[0;34m]\u001b[0m \u001b[0;34m=\u001b[0m \u001b[0mepoch\u001b[0m\u001b[0;34m\u001b[0m\u001b[0m\n\u001b[1;32m    151\u001b[0m             epoch_res['TRAIN_LOSS'], epoch_res[\n\u001b[0;32m--> 152\u001b[0;31m                 'TIME_TRAIN_EPOCH_S'] = self.train_epoch(shuffled)\n\u001b[0m\u001b[1;32m    153\u001b[0m             \u001b[0mprint\u001b[0m\u001b[0;34m(\u001b[0m\u001b[0;34m'Training took %.2f s.'\u001b[0m \u001b[0;34m%\u001b[0m \u001b[0mepoch_res\u001b[0m\u001b[0;34m[\u001b[0m\u001b[0;34m'TIME_TRAIN_EPOCH_S'\u001b[0m\u001b[0;34m]\u001b[0m\u001b[0;34m)\u001b[0m\u001b[0;34m\u001b[0m\u001b[0m\n\u001b[1;32m    154\u001b[0m             \u001b[0mcheckpoint_path\u001b[0m \u001b[0;34m=\u001b[0m \u001b[0;32mNone\u001b[0m\u001b[0;34m\u001b[0m\u001b[0m\n",
      "\u001b[0;32m/media/stepan/Файлы/yaDisk/projects/hierarchical_LSTM/hlstm/hlstm_model.py\u001b[0m in \u001b[0;36mtrain_epoch\u001b[0;34m(self, train_input)\u001b[0m\n\u001b[1;32m    115\u001b[0m         \u001b[0mt\u001b[0m \u001b[0;34m=\u001b[0m \u001b[0mtime\u001b[0m\u001b[0;34m.\u001b[0m\u001b[0mtime\u001b[0m\u001b[0;34m(\u001b[0m\u001b[0;34m)\u001b[0m\u001b[0;34m\u001b[0m\u001b[0m\n\u001b[1;32m    116\u001b[0m         loss = sum(self.train_step(ba)\n\u001b[0;32m--> 117\u001b[0;31m                    for ba in td.group_by_batches(train_input, self.BATCH_SIZE))\n\u001b[0m\u001b[1;32m    118\u001b[0m         \u001b[0mt\u001b[0m \u001b[0;34m=\u001b[0m \u001b[0mtime\u001b[0m\u001b[0;34m.\u001b[0m\u001b[0mtime\u001b[0m\u001b[0;34m(\u001b[0m\u001b[0;34m)\u001b[0m \u001b[0;34m-\u001b[0m \u001b[0mt\u001b[0m\u001b[0;34m\u001b[0m\u001b[0m\n\u001b[1;32m    119\u001b[0m         \u001b[0;32mreturn\u001b[0m \u001b[0mloss\u001b[0m\u001b[0;34m,\u001b[0m \u001b[0mt\u001b[0m\u001b[0;34m\u001b[0m\u001b[0m\n",
      "\u001b[0;32m/media/stepan/Файлы/yaDisk/projects/hierarchical_LSTM/hlstm/hlstm_model.py\u001b[0m in \u001b[0;36m<genexpr>\u001b[0;34m(.0)\u001b[0m\n\u001b[1;32m    115\u001b[0m         \u001b[0mt\u001b[0m \u001b[0;34m=\u001b[0m \u001b[0mtime\u001b[0m\u001b[0;34m.\u001b[0m\u001b[0mtime\u001b[0m\u001b[0;34m(\u001b[0m\u001b[0;34m)\u001b[0m\u001b[0;34m\u001b[0m\u001b[0m\n\u001b[1;32m    116\u001b[0m         loss = sum(self.train_step(ba)\n\u001b[0;32m--> 117\u001b[0;31m                    for ba in td.group_by_batches(train_input, self.BATCH_SIZE))\n\u001b[0m\u001b[1;32m    118\u001b[0m         \u001b[0mt\u001b[0m \u001b[0;34m=\u001b[0m \u001b[0mtime\u001b[0m\u001b[0;34m.\u001b[0m\u001b[0mtime\u001b[0m\u001b[0;34m(\u001b[0m\u001b[0;34m)\u001b[0m \u001b[0;34m-\u001b[0m \u001b[0mt\u001b[0m\u001b[0;34m\u001b[0m\u001b[0m\n\u001b[1;32m    119\u001b[0m         \u001b[0;32mreturn\u001b[0m \u001b[0mloss\u001b[0m\u001b[0;34m,\u001b[0m \u001b[0mt\u001b[0m\u001b[0;34m\u001b[0m\u001b[0m\n",
      "\u001b[0;32m/media/stepan/Файлы/yaDisk/projects/hierarchical_LSTM/hlstm/hlstm_model.py\u001b[0m in \u001b[0;36mtrain_step\u001b[0;34m(self, batch)\u001b[0m\n\u001b[1;32m    105\u001b[0m         \u001b[0mself\u001b[0m\u001b[0;34m.\u001b[0m\u001b[0mtrain_feed_dict\u001b[0m\u001b[0;34m[\u001b[0m\u001b[0mself\u001b[0m\u001b[0;34m.\u001b[0m\u001b[0mcompiler\u001b[0m\u001b[0;34m.\u001b[0m\u001b[0mloom_input_tensor\u001b[0m\u001b[0;34m]\u001b[0m \u001b[0;34m=\u001b[0m \u001b[0mbatch\u001b[0m\u001b[0;34m\u001b[0m\u001b[0m\n\u001b[1;32m    106\u001b[0m         _, batch_loss = self.sess.run(\n\u001b[0;32m--> 107\u001b[0;31m             [self.train_grad, self.loss], self.train_feed_dict)\n\u001b[0m\u001b[1;32m    108\u001b[0m         \u001b[0;32mreturn\u001b[0m \u001b[0mbatch_loss\u001b[0m\u001b[0;34m\u001b[0m\u001b[0m\n\u001b[1;32m    109\u001b[0m \u001b[0;34m\u001b[0m\u001b[0m\n",
      "\u001b[0;32m/usr/local/lib/python3.5/dist-packages/tensorflow/python/client/session.py\u001b[0m in \u001b[0;36mrun\u001b[0;34m(self, fetches, feed_dict, options, run_metadata)\u001b[0m\n\u001b[1;32m    765\u001b[0m     \u001b[0;32mtry\u001b[0m\u001b[0;34m:\u001b[0m\u001b[0;34m\u001b[0m\u001b[0m\n\u001b[1;32m    766\u001b[0m       result = self._run(None, fetches, feed_dict, options_ptr,\n\u001b[0;32m--> 767\u001b[0;31m                          run_metadata_ptr)\n\u001b[0m\u001b[1;32m    768\u001b[0m       \u001b[0;32mif\u001b[0m \u001b[0mrun_metadata\u001b[0m\u001b[0;34m:\u001b[0m\u001b[0;34m\u001b[0m\u001b[0m\n\u001b[1;32m    769\u001b[0m         \u001b[0mproto_data\u001b[0m \u001b[0;34m=\u001b[0m \u001b[0mtf_session\u001b[0m\u001b[0;34m.\u001b[0m\u001b[0mTF_GetBuffer\u001b[0m\u001b[0;34m(\u001b[0m\u001b[0mrun_metadata_ptr\u001b[0m\u001b[0;34m)\u001b[0m\u001b[0;34m\u001b[0m\u001b[0m\n",
      "\u001b[0;32m/usr/local/lib/python3.5/dist-packages/tensorflow/python/client/session.py\u001b[0m in \u001b[0;36m_run\u001b[0;34m(self, handle, fetches, feed_dict, options, run_metadata)\u001b[0m\n\u001b[1;32m    963\u001b[0m     \u001b[0;32mif\u001b[0m \u001b[0mfinal_fetches\u001b[0m \u001b[0;32mor\u001b[0m \u001b[0mfinal_targets\u001b[0m\u001b[0;34m:\u001b[0m\u001b[0;34m\u001b[0m\u001b[0m\n\u001b[1;32m    964\u001b[0m       results = self._do_run(handle, final_targets, final_fetches,\n\u001b[0;32m--> 965\u001b[0;31m                              feed_dict_string, options, run_metadata)\n\u001b[0m\u001b[1;32m    966\u001b[0m     \u001b[0;32melse\u001b[0m\u001b[0;34m:\u001b[0m\u001b[0;34m\u001b[0m\u001b[0m\n\u001b[1;32m    967\u001b[0m       \u001b[0mresults\u001b[0m \u001b[0;34m=\u001b[0m \u001b[0;34m[\u001b[0m\u001b[0;34m]\u001b[0m\u001b[0;34m\u001b[0m\u001b[0m\n",
      "\u001b[0;32m/usr/local/lib/python3.5/dist-packages/tensorflow/python/client/session.py\u001b[0m in \u001b[0;36m_do_run\u001b[0;34m(self, handle, target_list, fetch_list, feed_dict, options, run_metadata)\u001b[0m\n\u001b[1;32m   1013\u001b[0m     \u001b[0;32mif\u001b[0m \u001b[0mhandle\u001b[0m \u001b[0;32mis\u001b[0m \u001b[0;32mNone\u001b[0m\u001b[0;34m:\u001b[0m\u001b[0;34m\u001b[0m\u001b[0m\n\u001b[1;32m   1014\u001b[0m       return self._do_call(_run_fn, self._session, feed_dict, fetch_list,\n\u001b[0;32m-> 1015\u001b[0;31m                            target_list, options, run_metadata)\n\u001b[0m\u001b[1;32m   1016\u001b[0m     \u001b[0;32melse\u001b[0m\u001b[0;34m:\u001b[0m\u001b[0;34m\u001b[0m\u001b[0m\n\u001b[1;32m   1017\u001b[0m       return self._do_call(_prun_fn, self._session, handle, feed_dict,\n",
      "\u001b[0;32m/usr/local/lib/python3.5/dist-packages/tensorflow/python/client/session.py\u001b[0m in \u001b[0;36m_do_call\u001b[0;34m(self, fn, *args)\u001b[0m\n\u001b[1;32m   1033\u001b[0m         \u001b[0;32mexcept\u001b[0m \u001b[0mKeyError\u001b[0m\u001b[0;34m:\u001b[0m\u001b[0;34m\u001b[0m\u001b[0m\n\u001b[1;32m   1034\u001b[0m           \u001b[0;32mpass\u001b[0m\u001b[0;34m\u001b[0m\u001b[0m\n\u001b[0;32m-> 1035\u001b[0;31m       \u001b[0;32mraise\u001b[0m \u001b[0mtype\u001b[0m\u001b[0;34m(\u001b[0m\u001b[0me\u001b[0m\u001b[0;34m)\u001b[0m\u001b[0;34m(\u001b[0m\u001b[0mnode_def\u001b[0m\u001b[0;34m,\u001b[0m \u001b[0mop\u001b[0m\u001b[0;34m,\u001b[0m \u001b[0mmessage\u001b[0m\u001b[0;34m)\u001b[0m\u001b[0;34m\u001b[0m\u001b[0m\n\u001b[0m\u001b[1;32m   1036\u001b[0m \u001b[0;34m\u001b[0m\u001b[0m\n\u001b[1;32m   1037\u001b[0m   \u001b[0;32mdef\u001b[0m \u001b[0m_extend_graph\u001b[0m\u001b[0;34m(\u001b[0m\u001b[0mself\u001b[0m\u001b[0;34m)\u001b[0m\u001b[0;34m:\u001b[0m\u001b[0;34m\u001b[0m\u001b[0m\n",
      "\u001b[0;31mFailedPreconditionError\u001b[0m: Attempting to use uninitialized value beta1_power_4\n\t [[Node: beta1_power_4/read = Identity[T=DT_FLOAT, _class=[\"loc:@word_embedding/weights\"], _device=\"/job:localhost/replica:0/task:0/gpu:0\"](beta1_power_4)]]\n\nCaused by op 'beta1_power_4/read', defined at:\n  File \"/usr/lib/python3.5/runpy.py\", line 184, in _run_module_as_main\n    \"__main__\", mod_spec)\n  File \"/usr/lib/python3.5/runpy.py\", line 85, in _run_code\n    exec(code, run_globals)\n  File \"/usr/local/lib/python3.5/dist-packages/ipykernel/__main__.py\", line 3, in <module>\n    app.launch_new_instance()\n  File \"/usr/local/lib/python3.5/dist-packages/traitlets/config/application.py\", line 658, in launch_instance\n    app.start()\n  File \"/usr/local/lib/python3.5/dist-packages/ipykernel/kernelapp.py\", line 474, in start\n    ioloop.IOLoop.instance().start()\n  File \"/usr/local/lib/python3.5/dist-packages/zmq/eventloop/ioloop.py\", line 177, in start\n    super(ZMQIOLoop, self).start()\n  File \"/usr/local/lib/python3.5/dist-packages/tornado/ioloop.py\", line 887, in start\n    handler_func(fd_obj, events)\n  File \"/usr/local/lib/python3.5/dist-packages/tornado/stack_context.py\", line 275, in null_wrapper\n    return fn(*args, **kwargs)\n  File \"/usr/local/lib/python3.5/dist-packages/zmq/eventloop/zmqstream.py\", line 440, in _handle_events\n    self._handle_recv()\n  File \"/usr/local/lib/python3.5/dist-packages/zmq/eventloop/zmqstream.py\", line 472, in _handle_recv\n    self._run_callback(callback, msg)\n  File \"/usr/local/lib/python3.5/dist-packages/zmq/eventloop/zmqstream.py\", line 414, in _run_callback\n    callback(*args, **kwargs)\n  File \"/usr/local/lib/python3.5/dist-packages/tornado/stack_context.py\", line 275, in null_wrapper\n    return fn(*args, **kwargs)\n  File \"/usr/local/lib/python3.5/dist-packages/ipykernel/kernelbase.py\", line 276, in dispatcher\n    return self.dispatch_shell(stream, msg)\n  File \"/usr/local/lib/python3.5/dist-packages/ipykernel/kernelbase.py\", line 228, in dispatch_shell\n    handler(stream, idents, msg)\n  File \"/usr/local/lib/python3.5/dist-packages/ipykernel/kernelbase.py\", line 390, in execute_request\n    user_expressions, allow_stdin)\n  File \"/usr/local/lib/python3.5/dist-packages/ipykernel/ipkernel.py\", line 196, in do_execute\n    res = shell.run_cell(code, store_history=store_history, silent=silent)\n  File \"/usr/local/lib/python3.5/dist-packages/ipykernel/zmqshell.py\", line 501, in run_cell\n    return super(ZMQInteractiveShell, self).run_cell(*args, **kwargs)\n  File \"/usr/local/lib/python3.5/dist-packages/IPython/core/interactiveshell.py\", line 2717, in run_cell\n    interactivity=interactivity, compiler=compiler, result=result)\n  File \"/usr/local/lib/python3.5/dist-packages/IPython/core/interactiveshell.py\", line 2821, in run_ast_nodes\n    if self.run_code(code, result):\n  File \"/usr/local/lib/python3.5/dist-packages/IPython/core/interactiveshell.py\", line 2881, in run_code\n    exec(code_obj, self.user_global_ns, self.user_ns)\n  File \"<ipython-input-22-460e752a14d6>\", line 2, in <module>\n    logs = model_interface.train(train_set = train_texts[:7000], test_set = train_texts[7000:], epochs=2, save=False, init = False)\n  File \"/media/stepan/Файлы/yaDisk/projects/hierarchical_LSTM/hlstm/interface.py\", line 30, in train\n    self.model.prepare_training(**property_dict)\n  File \"/media/stepan/Файлы/yaDisk/projects/hierarchical_LSTM/hlstm/hlstm_model.py\", line 89, in prepare_training\n    self.train = self.prepare_word_embedding_gradients()\n  File \"/media/stepan/Файлы/yaDisk/projects/hierarchical_LSTM/hlstm/hlstm_model.py\", line 102, in prepare_word_embedding_gradients\n    self.train_grad = self.opt.apply_gradients(grads_and_vars)\n  File \"/usr/local/lib/python3.5/dist-packages/tensorflow/python/training/optimizer.py\", line 412, in apply_gradients\n    self._create_slots(var_list)\n  File \"/usr/local/lib/python3.5/dist-packages/tensorflow/python/training/adam.py\", line 113, in _create_slots\n    trainable=False)\n  File \"/usr/local/lib/python3.5/dist-packages/tensorflow/python/ops/variables.py\", line 226, in __init__\n    expected_shape=expected_shape)\n  File \"/usr/local/lib/python3.5/dist-packages/tensorflow/python/ops/variables.py\", line 344, in _init_from_args\n    self._snapshot = array_ops.identity(self._variable, name=\"read\")\n  File \"/usr/local/lib/python3.5/dist-packages/tensorflow/python/ops/gen_array_ops.py\", line 1490, in identity\n    result = _op_def_lib.apply_op(\"Identity\", input=input, name=name)\n  File \"/usr/local/lib/python3.5/dist-packages/tensorflow/python/framework/op_def_library.py\", line 763, in apply_op\n    op_def=op_def)\n  File \"/usr/local/lib/python3.5/dist-packages/tensorflow/python/framework/ops.py\", line 2395, in create_op\n    original_op=self._default_original_op, op_def=op_def)\n  File \"/usr/local/lib/python3.5/dist-packages/tensorflow/python/framework/ops.py\", line 1264, in __init__\n    self._traceback = _extract_stack()\n\nFailedPreconditionError (see above for traceback): Attempting to use uninitialized value beta1_power_4\n\t [[Node: beta1_power_4/read = Identity[T=DT_FLOAT, _class=[\"loc:@word_embedding/weights\"], _device=\"/job:localhost/replica:0/task:0/gpu:0\"](beta1_power_4)]]\n"
     ]
    }
   ],
   "source": [
    "model_interface.model.sess.run(tf.global_variables_initializer())\n",
    "logs = model_interface.train(train_set = train_texts[:7000], test_set = train_texts[7000:], epochs=2, save=False, init = False)"
   ]
  },
  {
   "cell_type": "code",
   "execution_count": 19,
   "metadata": {
    "ExecuteTime": {
     "end_time": "2017-12-11T12:36:02.062809Z",
     "start_time": "2017-12-11T15:36:02.020091+03:00"
    },
    "collapsed": false,
    "deletable": true,
    "editable": true
   },
   "outputs": [
    {
     "name": "stdout",
     "output_type": "stream",
     "text": [
      "model restored from: ./data/test_data/12_11_12_05-2\n"
     ]
    }
   ],
   "source": [
    "model.restore_model('./data/test_data/12_11_12_05-2')"
   ]
  },
  {
   "cell_type": "code",
   "execution_count": 23,
   "metadata": {
    "ExecuteTime": {
     "end_time": "2017-12-07T13:32:13.544668Z",
     "start_time": "2017-12-07T16:32:13.533823+03:00"
    },
    "collapsed": false,
    "deletable": false,
    "editable": false,
    "run_control": {
     "frozen": true
    }
   },
   "outputs": [],
   "source": [
    "def f(a='a',**kwargs):\n",
    "    print(a)\n",
    "    print(kwargs)\n",
    "    t(**kwargs)\n",
    "def t(b = 'b', **kwargs):\n",
    "    print(b)\n",
    "    print(kwargs)"
   ]
  },
  {
   "cell_type": "code",
   "execution_count": 24,
   "metadata": {
    "ExecuteTime": {
     "end_time": "2017-12-07T13:32:14.007818Z",
     "start_time": "2017-12-07T16:32:14.003283+03:00"
    },
    "collapsed": false,
    "deletable": false,
    "editable": false,
    "run_control": {
     "frozen": true
    }
   },
   "outputs": [
    {
     "name": "stdout",
     "output_type": "stream",
     "text": [
      "a\n",
      "{}\n",
      "b\n",
      "{}\n"
     ]
    }
   ],
   "source": [
    "d = dict()\n",
    "f(**d)"
   ]
  },
  {
   "cell_type": "code",
   "execution_count": 66,
   "metadata": {
    "ExecuteTime": {
     "end_time": "2017-12-10T20:09:36.393212Z",
     "start_time": "2017-12-10T23:09:36.384308+03:00"
    },
    "collapsed": false,
    "deletable": false,
    "editable": false,
    "run_control": {
     "frozen": true
    }
   },
   "outputs": [
    {
     "name": "stdout",
     "output_type": "stream",
     "text": [
      "word_embedding/weights:0 (10843, 300)\n",
      "sent_cell/weights:0 (150, 200)\n",
      "sent_cell/biases:0 (200,)\n",
      "output_layer/bias:0 (10,)\n",
      "output_layer/weights:0 (50, 10)\n",
      "tree_lstm_cell/fully_connected/weights:0 (400, 250)\n",
      "tree_lstm_cell/fully_connected/biases:0 (250,)\n"
     ]
    }
   ],
   "source": [
    "for var in  tf.trainable_variables():\n",
    "    print( var.name, var.get_shape())\n",
    "    "
   ]
  },
  {
   "cell_type": "code",
   "execution_count": 67,
   "metadata": {
    "ExecuteTime": {
     "end_time": "2017-12-10T20:09:37.234512Z",
     "start_time": "2017-12-10T23:09:37.226388+03:00"
    },
    "collapsed": false,
    "deletable": false,
    "editable": false,
    "run_control": {
     "frozen": true
    },
    "scrolled": true
   },
   "outputs": [
    {
     "name": "stdout",
     "output_type": "stream",
     "text": [
      "word_embedding/weights:0 (10843, 300)\n",
      "sent_cell/weights:0 (200, 400)\n",
      "sent_cell/biases:0 (400,)\n",
      "output_layer/bias:0 (10,)\n",
      "output_layer/weights:0 (100, 10)\n",
      "tree_lstm_cell/fully_connected/weights:0 (400, 250)\n",
      "tree_lstm_cell/fully_connected/biases:0 (250,)\n"
     ]
    }
   ],
   "source": [
    "for var in  sess.graph.get_collection(tf.GraphKeys.TRAINABLE_VARIABLES):\n",
    "    print( var.name, var.get_shape())\n"
   ]
  },
  {
   "cell_type": "code",
   "execution_count": 23,
   "metadata": {
    "ExecuteTime": {
     "end_time": "2017-12-11T13:29:11.243683Z",
     "start_time": "2017-12-11T16:29:11.237552+03:00"
    },
    "collapsed": false,
    "deletable": true,
    "editable": true
   },
   "outputs": [
    {
     "name": "stdout",
     "output_type": "stream",
     "text": [
      "word_embedding/weights:0 (10843, 300)\n",
      "sent_cell/weights:0 (200, 400)\n",
      "sent_cell/biases:0 (400,)\n",
      "output_layer/bias:0 (10,)\n",
      "output_layer/weights:0 (100, 10)\n",
      "tree_lstm_cell/fully_connected/weights:0 (400, 250)\n",
      "tree_lstm_cell/fully_connected/biases:0 (250,)\n"
     ]
    }
   ],
   "source": [
    "for var in  sess.graph.get_collection(tf.GraphKeys.TRAINABLE_VARIABLES):\n",
    "    print( var.name, var.get_shape())"
   ]
  },
  {
   "cell_type": "code",
   "execution_count": 54,
   "metadata": {
    "ExecuteTime": {
     "end_time": "2017-12-10T20:02:30.644120Z",
     "start_time": "2017-12-10T23:02:30.638949+03:00"
    },
    "collapsed": false,
    "deletable": true,
    "editable": true
   },
   "outputs": [
    {
     "name": "stdout",
     "output_type": "stream",
     "text": [
      "Tensor(\"word_embedding/weights/read:0\", shape=(10843, 300), dtype=float32)\n"
     ]
    }
   ],
   "source": [
    "var = tf.trainable_variables()[0]\n",
    "print(var)"
   ]
  },
  {
   "cell_type": "code",
   "execution_count": 63,
   "metadata": {
    "ExecuteTime": {
     "end_time": "2017-12-10T20:08:42.021298Z",
     "start_time": "2017-12-10T23:08:42.016511+03:00"
    },
    "collapsed": false,
    "deletable": true,
    "editable": true
   },
   "outputs": [],
   "source": [
    "var = sess.graph.get_collection(tf.GraphKeys.TRAINABLE_VARIABLES)"
   ]
  },
  {
   "cell_type": "code",
   "execution_count": 64,
   "metadata": {
    "ExecuteTime": {
     "end_time": "2017-12-10T20:08:47.896191Z",
     "start_time": "2017-12-10T23:08:47.816225+03:00"
    },
    "collapsed": false,
    "deletable": true,
    "editable": true
   },
   "outputs": [],
   "source": [
    "r = sess.run(var)"
   ]
  },
  {
   "cell_type": "code",
   "execution_count": 69,
   "metadata": {
    "ExecuteTime": {
     "end_time": "2017-12-10T20:10:00.607878Z",
     "start_time": "2017-12-10T23:10:00.550929+03:00"
    },
    "collapsed": false,
    "deletable": false,
    "editable": false,
    "run_control": {
     "frozen": true
    }
   },
   "outputs": [
    {
     "data": {
      "text/plain": [
       "array([[ -8.50994065e-02,  -8.84783193e-02,  -2.52580252e-02,\n",
       "          8.71676579e-02,   1.86702739e-02,  -1.35313407e-01,\n",
       "          1.60275623e-01,   7.02021047e-02,   1.62264675e-01,\n",
       "          1.14416443e-01],\n",
       "       [  1.88818097e-01,  -3.53981405e-02,  -7.43925646e-02,\n",
       "         -1.47587270e-01,  -2.53439117e-02,   4.46452051e-02,\n",
       "          5.74342795e-02,   4.63363603e-02,  -1.82269350e-01,\n",
       "         -1.59779444e-01],\n",
       "       [  1.21256784e-01,  -1.68523490e-01,  -9.17083472e-02,\n",
       "         -2.12953955e-01,  -1.17622644e-01,  -6.77039009e-03,\n",
       "         -1.06877662e-01,  -1.32627890e-01,  -5.85636385e-02,\n",
       "         -1.22874990e-01],\n",
       "       [ -1.32705986e-01,   1.95391685e-01,  -7.17044845e-02,\n",
       "          1.55064225e-01,   7.58638233e-02,  -4.60307412e-02,\n",
       "          1.75644122e-02,  -4.59121019e-02,  -1.47658989e-01,\n",
       "          1.95827901e-01],\n",
       "       [  1.11901678e-01,  -2.33465042e-02,   1.23911038e-01,\n",
       "         -2.53810614e-01,   9.09754857e-02,  -1.35387518e-02,\n",
       "         -4.70304489e-03,   1.21197820e-01,  -2.07646877e-01,\n",
       "          6.75933734e-02],\n",
       "       [  3.29140425e-02,  -1.96948245e-01,   1.49925929e-02,\n",
       "         -3.77671309e-02,   1.55817682e-03,  -2.19504489e-03,\n",
       "         -2.08457276e-01,   1.49674788e-01,   2.81766243e-02,\n",
       "          1.34189025e-01],\n",
       "       [ -3.10354331e-03,  -6.38362393e-02,   1.11337036e-01,\n",
       "         -2.70403445e-01,  -1.17966644e-01,  -1.66908979e-01,\n",
       "          1.04433838e-02,  -3.73936184e-02,  -1.12053141e-01,\n",
       "         -1.96572036e-01],\n",
       "       [ -7.81186819e-02,  -1.94412276e-01,   1.42991990e-01,\n",
       "         -2.17361182e-01,   1.07811980e-01,   1.86279744e-01,\n",
       "         -2.63102502e-01,   2.03405112e-01,  -1.86296061e-01,\n",
       "          4.79010232e-02],\n",
       "       [  2.83004791e-02,  -9.18571502e-02,   1.58266127e-01,\n",
       "         -4.55608405e-03,  -1.39716983e-01,  -2.18526363e-01,\n",
       "          1.72763839e-01,  -5.94510101e-02,  -7.91278034e-02,\n",
       "          1.17649250e-01],\n",
       "       [  1.68386802e-01,  -2.02534169e-01,   4.30217572e-02,\n",
       "          8.90729204e-02,  -1.55618608e-01,   1.38748109e-01,\n",
       "         -1.72378197e-02,   4.47317921e-02,  -5.39193563e-02,\n",
       "         -1.74131095e-01],\n",
       "       [ -2.50621755e-02,   3.48906964e-04,  -1.85481086e-02,\n",
       "         -1.91597328e-01,   2.25989327e-01,  -1.44656584e-01,\n",
       "         -1.05589263e-01,  -2.06652030e-01,   1.29411370e-01,\n",
       "          1.45426288e-01],\n",
       "       [ -1.00535695e-02,  -1.65612660e-02,   1.81021959e-01,\n",
       "         -1.49479523e-01,   1.67226717e-02,   1.14489168e-01,\n",
       "         -1.56332523e-01,  -1.21326834e-01,   9.65763852e-02,\n",
       "         -6.85162768e-02],\n",
       "       [  6.07497431e-02,   1.54877733e-03,   3.10168066e-03,\n",
       "          1.40021175e-01,  -2.61379424e-02,   3.38675752e-02,\n",
       "         -4.25181426e-02,  -8.23410302e-02,  -2.02158391e-02,\n",
       "         -1.64949894e-02],\n",
       "       [  8.76925588e-02,  -6.45540282e-03,  -1.50754616e-01,\n",
       "          1.91079423e-01,   5.39965183e-02,   6.01543114e-02,\n",
       "         -4.30128798e-02,  -1.76109463e-01,  -3.22652236e-03,\n",
       "         -6.95587397e-02],\n",
       "       [ -1.25098094e-01,   2.59400666e-01,  -2.19903722e-01,\n",
       "          2.43149593e-01,  -3.81232938e-03,   2.48317584e-01,\n",
       "         -9.46027040e-02,   9.43850875e-02,  -8.97378847e-02,\n",
       "         -2.34776735e-02],\n",
       "       [  8.88853073e-02,   3.78421834e-03,   1.38058484e-01,\n",
       "         -6.32902235e-02,  -1.34015262e-01,  -1.62688926e-01,\n",
       "          2.22308755e-01,  -1.18498243e-01,   1.69357270e-01,\n",
       "          4.21290360e-02],\n",
       "       [ -1.83022678e-01,   5.92564642e-02,  -6.90979660e-02,\n",
       "         -9.59771276e-02,   3.21293846e-02,   2.08993629e-01,\n",
       "         -2.52502561e-02,   4.53500859e-02,  -1.44936398e-01,\n",
       "          9.01937857e-02],\n",
       "       [  8.12638327e-02,  -1.63219795e-01,   1.12301618e-01,\n",
       "         -2.02104613e-01,   1.57504216e-01,   3.90699469e-02,\n",
       "          1.88796431e-01,  -5.56834675e-02,   2.24155590e-01,\n",
       "          1.24173202e-01],\n",
       "       [  9.89584159e-03,   8.17745328e-02,  -7.12535307e-02,\n",
       "         -1.21360786e-01,   6.90960884e-02,  -2.34313831e-01,\n",
       "         -4.61853817e-02,  -2.35519662e-01,  -7.99173564e-02,\n",
       "         -1.10979959e-01],\n",
       "       [ -1.90241765e-02,   1.55877084e-01,   1.06771655e-01,\n",
       "          2.38806307e-01,   1.49786964e-01,  -1.83856353e-01,\n",
       "         -1.70024373e-02,  -1.79165937e-02,   5.43451984e-04,\n",
       "         -4.40702327e-02],\n",
       "       [  5.36921509e-02,   1.23753749e-01,  -1.53472036e-01,\n",
       "         -5.30274101e-02,   7.41346627e-02,   5.13621084e-02,\n",
       "          5.67236356e-02,   1.06716789e-01,  -4.63438854e-02,\n",
       "         -1.31153032e-01],\n",
       "       [ -1.83063477e-01,  -1.29219204e-01,   2.30134204e-01,\n",
       "          3.43709476e-02,  -1.59420758e-01,   9.04760733e-02,\n",
       "         -9.62392613e-02,   6.06975295e-02,  -7.34121576e-02,\n",
       "          1.81287825e-01],\n",
       "       [  1.15703352e-01,  -1.43301204e-01,  -1.07072212e-01,\n",
       "          2.17190593e-01,  -1.35453478e-01,  -7.81721100e-02,\n",
       "          3.54142971e-02,  -1.56653404e-01,   8.16588476e-02,\n",
       "          6.14705682e-02],\n",
       "       [  3.50353681e-02,  -1.75971270e-01,   7.80760273e-02,\n",
       "         -1.43787488e-01,  -4.52983901e-02,   9.41012353e-02,\n",
       "         -1.01449072e-01,  -2.55011450e-02,   1.10212602e-01,\n",
       "         -3.67319137e-02],\n",
       "       [ -7.81155825e-02,   1.25996530e-01,  -1.42017633e-01,\n",
       "          1.80651382e-01,   9.42353010e-02,  -1.07202642e-01,\n",
       "         -1.30472869e-01,   1.52534544e-01,   1.06218811e-02,\n",
       "          1.65747687e-01],\n",
       "       [  8.61615241e-02,  -1.08638071e-01,  -1.61724225e-01,\n",
       "         -1.22532554e-01,   1.63091898e-01,  -1.61134660e-01,\n",
       "          1.68099239e-01,  -1.02733411e-01,  -6.08939491e-02,\n",
       "          4.53024171e-02],\n",
       "       [  4.16160673e-02,   1.41053274e-01,  -5.56210540e-02,\n",
       "         -5.68996593e-02,   1.76809058e-02,  -1.99574485e-01,\n",
       "          9.71809700e-02,  -1.32545531e-01,  -1.06116772e-01,\n",
       "         -1.23273179e-01],\n",
       "       [  1.25748992e-01,   1.46551266e-01,  -5.63317835e-02,\n",
       "         -1.05461320e-02,  -1.82154894e-01,  -1.09865926e-01,\n",
       "          2.16656532e-02,  -1.00764386e-01,   1.96298555e-01,\n",
       "          1.69933125e-01],\n",
       "       [  7.84194693e-02,  -3.07606366e-02,  -8.44695121e-02,\n",
       "          1.27050728e-01,  -7.34950155e-02,  -2.91660607e-01,\n",
       "         -7.24494383e-02,  -9.77795273e-02,  -7.03961328e-02,\n",
       "          1.03416607e-01],\n",
       "       [  5.80356382e-02,   3.83500531e-02,   1.27319992e-01,\n",
       "         -2.45863110e-01,   5.88692725e-02,  -6.59228787e-02,\n",
       "         -4.68363836e-02,   6.35181367e-02,  -5.78615963e-02,\n",
       "         -1.33367941e-01],\n",
       "       [ -7.78277665e-02,   1.56529713e-03,   1.52015254e-01,\n",
       "          5.56275807e-02,   8.16116259e-02,  -1.48007795e-02,\n",
       "         -1.54862583e-01,   9.98921990e-02,   7.26549402e-02,\n",
       "         -2.20682900e-02],\n",
       "       [ -1.83315024e-01,   6.67353207e-03,  -1.45247743e-01,\n",
       "         -1.28784090e-01,  -1.04882605e-01,  -2.25092769e-02,\n",
       "          1.43698677e-01,   6.59189001e-02,   8.35856423e-02,\n",
       "          6.98685870e-02],\n",
       "       [  5.52197285e-02,  -1.32443309e-01,  -7.79802501e-02,\n",
       "         -1.93005621e-01,  -1.02085270e-01,  -2.30456144e-02,\n",
       "         -6.28202558e-02,   1.11823827e-02,  -1.57161102e-01,\n",
       "         -4.28289212e-02],\n",
       "       [  1.07832864e-01,  -1.78815365e-01,   1.08688548e-01,\n",
       "         -1.70153044e-02,  -1.39726907e-01,  -1.71810955e-01,\n",
       "          2.52309870e-02,  -1.04244441e-01,   1.88783288e-01,\n",
       "          1.86927468e-01],\n",
       "       [ -7.28183389e-02,   2.02049762e-01,   9.23176184e-02,\n",
       "          1.73034728e-01,  -1.55589432e-02,   1.77315190e-01,\n",
       "         -7.24192485e-02,  -1.51139989e-01,   5.72783947e-02,\n",
       "         -1.19297951e-01],\n",
       "       [  7.77528509e-02,  -1.76321298e-01,  -9.29575637e-02,\n",
       "         -2.15379179e-01,   8.60554725e-02,  -1.40044227e-01,\n",
       "         -2.75501404e-02,  -1.85814336e-01,  -1.34759605e-01,\n",
       "          2.05418319e-02],\n",
       "       [ -1.70088895e-02,   1.16826981e-01,  -3.90120521e-02,\n",
       "         -6.19564392e-02,   1.08745158e-01,  -2.20111217e-02,\n",
       "          2.15812743e-01,   6.54841959e-02,   2.03679040e-01,\n",
       "          4.40457761e-02],\n",
       "       [ -5.35215065e-02,  -8.92117545e-02,   1.48292363e-01,\n",
       "          2.34500751e-01,   1.04276136e-01,  -1.20070428e-01,\n",
       "         -7.07562417e-02,   1.45466298e-01,   7.12294132e-02,\n",
       "         -5.14928102e-02],\n",
       "       [  1.07317850e-01,   1.43364355e-01,  -1.66270673e-01,\n",
       "          1.97374791e-01,   5.83220497e-02,   1.17099635e-01,\n",
       "          1.26724765e-01,  -1.12641573e-01,   1.28625110e-01,\n",
       "          1.33823290e-01],\n",
       "       [  2.05488831e-01,  -1.21848270e-01,   1.86873719e-01,\n",
       "         -1.20652139e-01,  -3.94452289e-02,  -1.07657999e-01,\n",
       "         -8.90207514e-02,   6.36150688e-02,   2.13834625e-02,\n",
       "         -1.48322403e-01],\n",
       "       [  1.21040113e-01,   3.69940959e-02,  -5.88817932e-02,\n",
       "          7.25487620e-02,  -1.93017915e-01,   8.09230879e-02,\n",
       "         -1.21704362e-01,   4.68479395e-02,  -8.98843631e-02,\n",
       "         -8.87604058e-02],\n",
       "       [  1.05603024e-01,   4.42958064e-02,   8.04093704e-02,\n",
       "         -1.77782878e-01,  -8.77688974e-02,  -2.56965570e-02,\n",
       "         -8.03522021e-02,   3.93358245e-02,  -2.45542854e-01,\n",
       "         -1.59367025e-01],\n",
       "       [  1.23656668e-01,   1.00359268e-01,   5.74240312e-02,\n",
       "          1.23054750e-01,   2.85908356e-02,  -1.00874811e-01,\n",
       "         -1.58348620e-01,  -2.57987343e-02,   1.86796114e-02,\n",
       "         -1.14345044e-01],\n",
       "       [  1.47645056e-01,  -1.08997710e-01,   1.21371053e-01,\n",
       "          1.30364805e-01,   8.87301788e-02,   1.43016055e-01,\n",
       "         -9.62290689e-02,   1.06725246e-01,   3.77951786e-02,\n",
       "         -3.77704129e-02],\n",
       "       [  1.74128503e-01,  -3.06139868e-02,   1.85044706e-01,\n",
       "         -6.78017735e-02,  -1.49503380e-01,   1.10393893e-02,\n",
       "         -2.39193290e-02,   1.11967631e-01,  -1.60398453e-01,\n",
       "         -6.93189651e-02],\n",
       "       [ -1.03130210e-02,  -6.47994056e-02,   1.37532309e-01,\n",
       "         -1.74186245e-01,   4.30847853e-02,   5.72686568e-02,\n",
       "         -2.09572092e-01,   1.76885784e-01,   1.10018244e-02,\n",
       "         -1.54867977e-01],\n",
       "       [  6.92279041e-02,  -1.47101626e-01,  -1.11842565e-01,\n",
       "         -9.99198295e-03,   1.33917764e-01,   7.89112151e-02,\n",
       "          9.15473998e-02,  -2.09204219e-02,   3.67613696e-02,\n",
       "         -7.74093792e-02],\n",
       "       [  1.28904969e-01,   9.76172015e-02,   6.07514493e-02,\n",
       "         -1.99151009e-01,  -1.54908985e-01,   8.81292596e-02,\n",
       "          5.84288314e-02,  -1.91142336e-02,  -6.74413443e-02,\n",
       "          1.22165699e-02],\n",
       "       [ -7.62294009e-02,  -1.19710676e-01,   1.20203882e-01,\n",
       "         -7.47352540e-02,  -7.99161419e-02,  -1.17986813e-01,\n",
       "          1.16947189e-01,   1.65904328e-01,   6.99682757e-02,\n",
       "          1.13288835e-01],\n",
       "       [  1.38935968e-01,   1.02322645e-01,  -8.84861797e-02,\n",
       "         -9.37284678e-02,  -1.00238971e-01,  -1.69690326e-01,\n",
       "         -1.88388694e-02,   1.95905522e-01,   1.53110251e-01,\n",
       "          4.59375158e-02],\n",
       "       [ -1.19844176e-01,   1.15820713e-01,  -1.13573156e-01,\n",
       "          1.15336858e-01,   4.50864285e-02,   1.10635251e-01,\n",
       "         -1.05895981e-01,   1.27990916e-01,  -1.94365494e-02,\n",
       "         -1.51540771e-01],\n",
       "       [ -2.23545823e-03,  -2.15472400e-01,   5.34902699e-02,\n",
       "         -1.42820895e-01,  -8.44500363e-02,   1.30585328e-01,\n",
       "         -1.39289409e-01,   1.95868760e-01,   3.15603148e-03,\n",
       "         -1.30254745e-01],\n",
       "       [ -9.99856591e-02,   1.74185857e-01,  -1.49200320e-01,\n",
       "         -3.07371728e-02,   3.19966720e-03,  -6.19309470e-02,\n",
       "         -1.65884420e-01,  -2.65777800e-02,   1.07187651e-01,\n",
       "         -1.19785130e-01],\n",
       "       [ -9.70163941e-02,   7.36296363e-03,  -8.88529271e-02,\n",
       "         -1.06844544e-01,   1.66927010e-01,   4.66225259e-02,\n",
       "          2.36721367e-01,  -1.68609828e-01,  -1.03886113e-01,\n",
       "          2.65310764e-01],\n",
       "       [ -1.14892744e-01,  -1.47414476e-01,  -1.24716915e-01,\n",
       "         -1.35716990e-01,  -2.19326392e-01,  -1.45969778e-01,\n",
       "          2.09190041e-01,  -2.29808427e-02,   5.61919138e-02,\n",
       "         -1.77623972e-01],\n",
       "       [ -4.02966067e-02,  -1.43000960e-01,   1.11582056e-02,\n",
       "         -1.51045129e-01,   6.85890391e-02,  -1.69614442e-02,\n",
       "         -2.25516826e-01,  -2.42059361e-02,  -1.69887871e-01,\n",
       "         -1.81302816e-01],\n",
       "       [ -5.56381186e-03,   1.93817765e-02,  -1.68140098e-01,\n",
       "          1.76193655e-01,  -1.11664392e-01,   1.41376853e-01,\n",
       "         -1.25310421e-01,  -9.91269872e-02,   1.93552254e-03,\n",
       "          1.22893408e-01],\n",
       "       [ -1.43301785e-01,   8.12600851e-02,   1.92677304e-01,\n",
       "          1.00761898e-01,  -8.45101103e-02,   1.44359529e-01,\n",
       "          5.21688424e-02,  -1.35020435e-01,   2.19760388e-02,\n",
       "          2.34838892e-02],\n",
       "       [ -1.07916318e-01,   4.64743823e-02,   1.71182334e-01,\n",
       "         -1.65651828e-01,  -7.06019029e-02,   1.79656088e-01,\n",
       "         -1.40004337e-01,  -5.53356372e-02,  -1.55243069e-01,\n",
       "         -1.25237405e-01],\n",
       "       [  1.82754010e-01,   1.75130721e-02,   6.50510490e-02,\n",
       "         -2.22067937e-01,   1.27091065e-01,   3.94402593e-02,\n",
       "         -1.78259507e-01,  -9.92902275e-03,  -2.79933065e-02,\n",
       "         -1.71465516e-01],\n",
       "       [  1.16363756e-01,  -5.28120995e-02,  -1.85387999e-01,\n",
       "          1.05573125e-01,  -6.21712133e-02,  -1.33581990e-02,\n",
       "          1.19097650e-01,  -2.07921803e-01,  -1.96218714e-02,\n",
       "          7.25661637e-03],\n",
       "       [ -3.60671431e-02,  -3.66984606e-02,  -1.80667996e-01,\n",
       "         -1.10003948e-01,   6.01249449e-02,   1.29109770e-01,\n",
       "          9.84753743e-02,   3.42858806e-02,  -2.51428727e-02,\n",
       "          9.14180651e-02],\n",
       "       [  1.34137824e-01,   2.07884431e-01,  -5.28489724e-02,\n",
       "         -1.64835110e-01,   7.56276324e-02,   1.88878477e-02,\n",
       "         -7.14815706e-02,   3.10514849e-02,  -7.45106339e-02,\n",
       "         -2.35042244e-01],\n",
       "       [  8.66915211e-02,  -1.38307586e-01,  -1.23723723e-01,\n",
       "         -1.15686625e-01,  -2.08165452e-01,   1.06592663e-01,\n",
       "         -9.96741652e-02,   1.41449556e-01,   9.78636593e-02,\n",
       "         -8.85155499e-02],\n",
       "       [  4.85125817e-02,  -1.63476214e-01,   9.56321061e-02,\n",
       "          1.19367823e-01,  -1.51178882e-01,  -1.44371510e-01,\n",
       "         -1.74289867e-01,  -9.81106088e-02,  -1.89385474e-01,\n",
       "         -1.60952508e-01],\n",
       "       [ -1.37912288e-01,   1.25231504e-01,  -1.79387346e-01,\n",
       "          1.71147436e-01,  -7.06288144e-02,   2.09578052e-02,\n",
       "          1.09745122e-01,  -9.00640264e-02,  -1.76593900e-01,\n",
       "         -2.70245802e-02],\n",
       "       [  1.14693776e-01,  -8.74139816e-02,   1.12238012e-01,\n",
       "         -2.06156790e-01,   1.46507934e-01,  -7.46599734e-02,\n",
       "         -1.11218311e-01,  -9.71298963e-02,  -5.34748882e-02,\n",
       "         -1.74817175e-01],\n",
       "       [  1.64126173e-01,  -1.37186497e-02,   1.31580949e-01,\n",
       "         -1.95716992e-01,  -1.96091104e-02,  -2.24968120e-01,\n",
       "         -1.09120488e-01,  -2.65600532e-01,  -1.21661156e-01,\n",
       "         -9.93522927e-02],\n",
       "       [ -1.35545164e-01,   1.10615119e-01,  -1.94997620e-02,\n",
       "          6.67951331e-02,  -1.26779079e-01,   8.80059749e-02,\n",
       "         -6.55539706e-02,  -1.15176812e-01,  -4.38041985e-03,\n",
       "         -1.32593647e-01],\n",
       "       [  1.23840719e-01,   1.63627386e-01,  -8.61269757e-02,\n",
       "          1.25463963e-01,  -1.56211898e-01,  -1.60892755e-01,\n",
       "         -8.86765867e-02,  -3.70924473e-02,  -2.03946277e-01,\n",
       "         -3.90550084e-02],\n",
       "       [ -4.81035858e-02,  -1.30385250e-01,   3.48491818e-02,\n",
       "         -8.37445632e-02,  -8.53689462e-02,  -9.78646614e-03,\n",
       "         -1.75276145e-01,   1.15251914e-01,  -5.54516688e-02,\n",
       "         -2.18792669e-02],\n",
       "       [ -8.64918251e-03,   8.90955969e-04,  -1.85597360e-01,\n",
       "         -1.30334035e-01,   1.09932452e-01,  -1.69329658e-01,\n",
       "          1.25141054e-01,  -6.16996028e-02,   4.89948168e-02,\n",
       "          8.33058823e-03],\n",
       "       [ -1.13721736e-01,   1.90882668e-01,   2.16058847e-02,\n",
       "         -3.20986733e-02,  -3.36447433e-02,   5.94218187e-02,\n",
       "          1.68978646e-01,   9.02414769e-02,  -4.70029078e-02,\n",
       "          6.88292682e-02],\n",
       "       [  1.79726720e-01,   2.05263928e-01,  -1.26143515e-01,\n",
       "         -1.61904022e-01,   8.26519132e-02,  -3.57237794e-02,\n",
       "          1.93283409e-01,   7.94440508e-02,   1.14737086e-01,\n",
       "          1.12420857e-01],\n",
       "       [ -2.09582850e-01,   2.05637991e-01,  -1.22021556e-01,\n",
       "          6.78654611e-02,  -4.30705547e-02,   1.48704618e-01,\n",
       "         -8.06146488e-02,   1.48536175e-01,   1.74516499e-01,\n",
       "          7.85467215e-03],\n",
       "       [  1.83528379e-01,   1.11034460e-01,  -1.08767417e-03,\n",
       "          9.73381028e-02,  -3.03972643e-02,  -1.01516224e-01,\n",
       "         -1.47745043e-01,  -7.52140805e-02,   1.19552076e-01,\n",
       "         -6.35031760e-02],\n",
       "       [  4.38699536e-02,   7.49093965e-02,   5.07038785e-04,\n",
       "         -1.92323849e-01,   3.03434022e-02,  -1.46162510e-01,\n",
       "          7.72078335e-02,  -1.14887960e-01,   5.32491393e-02,\n",
       "          2.27150470e-02],\n",
       "       [ -1.84522811e-02,   1.64096206e-01,   2.79236287e-02,\n",
       "         -4.54975516e-02,  -4.97212559e-02,   1.34887755e-01,\n",
       "          1.25123501e-01,   6.83930591e-02,  -7.00367987e-02,\n",
       "          4.35443036e-02],\n",
       "       [  5.90429269e-02,   2.09636629e-01,  -9.66792777e-02,\n",
       "          9.81257260e-02,   3.74349654e-02,   3.04413810e-02,\n",
       "         -5.88966869e-02,  -1.00641340e-01,   1.40167236e-01,\n",
       "          9.09355804e-02],\n",
       "       [  1.59001455e-01,  -2.51638144e-01,   1.41450480e-01,\n",
       "         -8.44403431e-02,   3.73337008e-02,  -1.03121988e-01,\n",
       "         -1.68300420e-01,   1.96440965e-01,  -3.24942768e-02,\n",
       "         -1.84414625e-01],\n",
       "       [ -9.37434137e-02,  -1.08702086e-01,  -8.37267563e-02,\n",
       "          6.20064139e-02,   1.06508657e-02,  -1.42212406e-01,\n",
       "          6.62688315e-02,  -5.87866642e-02,   1.99733004e-01,\n",
       "          9.06744003e-02],\n",
       "       [  1.83321133e-01,   2.14077696e-01,  -9.86063704e-02,\n",
       "         -1.84177190e-01,   7.41659552e-02,  -2.05764249e-02,\n",
       "          4.44298275e-02,  -8.72971341e-02,   1.08383529e-01,\n",
       "         -3.95574719e-02],\n",
       "       [ -8.66652280e-02,  -7.63605759e-02,  -1.33071929e-01,\n",
       "          4.18566801e-02,  -8.40452909e-02,  -2.09155455e-01,\n",
       "          1.34936988e-01,  -1.75721437e-01,   2.97045168e-02,\n",
       "         -8.81760195e-02],\n",
       "       [ -1.89127792e-02,   6.38697371e-02,  -1.43814087e-01,\n",
       "         -3.60617414e-04,  -7.76525140e-02,   1.18191816e-01,\n",
       "          1.69734787e-02,   8.98312479e-02,   2.07256481e-01,\n",
       "          1.69924408e-01],\n",
       "       [  7.03252703e-02,  -1.34117268e-02,   1.41373008e-01,\n",
       "         -1.33220434e-01,  -1.12236507e-01,  -2.18508601e-01,\n",
       "          2.82337815e-02,  -1.13285154e-01,   8.35548863e-02,\n",
       "         -1.75032645e-01],\n",
       "       [  8.29938650e-02,   1.03811108e-01,   8.46258327e-02,\n",
       "         -4.29333039e-02,  -1.11736178e-01,   1.85396299e-01,\n",
       "          3.12080532e-01,  -1.09816656e-01,   1.68967694e-01,\n",
       "          1.44069403e-01],\n",
       "       [  1.04713187e-01,   1.93812653e-01,  -9.12553221e-02,\n",
       "          4.36748601e-02,   4.38329168e-02,  -1.61043614e-01,\n",
       "          8.82056914e-03,   6.73612161e-03,  -1.41473934e-02,\n",
       "          4.11223546e-02],\n",
       "       [ -1.96085334e-01,   6.46354780e-02,   3.63554922e-03,\n",
       "         -8.06394070e-02,  -1.73562672e-02,  -7.21162707e-02,\n",
       "          1.94477051e-01,  -1.58825606e-01,   1.74797997e-01,\n",
       "          1.18600540e-01],\n",
       "       [ -9.00493711e-02,   5.33739477e-02,  -8.32349621e-03,\n",
       "          1.80361062e-01,   1.66535959e-01,   8.60908106e-02,\n",
       "         -1.67968765e-01,  -5.47518507e-02,   1.44345835e-01,\n",
       "         -2.83740908e-02],\n",
       "       [ -1.80624276e-01,   1.79206818e-01,  -1.32555768e-01,\n",
       "          9.64849070e-02,  -1.47482157e-01,  -2.53568403e-02,\n",
       "          5.65651618e-03,   8.15196261e-02,   1.56904593e-01,\n",
       "          1.82539329e-01],\n",
       "       [ -1.22268416e-01,   7.42994063e-03,   8.08439869e-03,\n",
       "          1.37805849e-01,  -7.06160441e-02,   2.35692278e-01,\n",
       "         -6.47031590e-02,  -9.29763317e-02,  -6.38360083e-02,\n",
       "         -3.39646898e-02],\n",
       "       [ -1.68196902e-01,  -1.25145242e-01,  -1.25076577e-01,\n",
       "         -7.31607080e-02,   2.65254490e-02,   2.82989698e-04,\n",
       "          1.27676085e-01,   8.78136605e-02,  -3.93237360e-02,\n",
       "          5.39071374e-02],\n",
       "       [  4.16526459e-02,   8.50388035e-02,  -3.72652188e-02,\n",
       "          1.36129290e-01,  -8.83879289e-02,   2.04326898e-01,\n",
       "          5.84099963e-02,   9.30831134e-02,  -7.64451399e-02,\n",
       "          7.97418132e-02],\n",
       "       [ -3.49465013e-02,   3.74291837e-02,  -7.18126819e-02,\n",
       "          1.19304195e-01,  -5.54747880e-02,   6.83667287e-02,\n",
       "         -2.27727685e-02,   1.30121216e-01,  -1.28301561e-01,\n",
       "         -8.11107382e-02],\n",
       "       [ -2.84926705e-02,   1.14067934e-01,  -1.56674713e-01,\n",
       "         -5.61762415e-02,   1.56292483e-01,   1.53450951e-01,\n",
       "          7.92798474e-02,  -1.62586331e-01,   2.01746792e-01,\n",
       "          1.93248436e-01],\n",
       "       [ -2.01499328e-01,  -1.82019491e-02,  -1.68100461e-01,\n",
       "          1.90152362e-01,   1.30390137e-01,  -3.75202596e-02,\n",
       "          1.66447222e-01,   1.84199184e-01,   2.09385186e-01,\n",
       "         -2.68824231e-02],\n",
       "       [  8.95491093e-02,   1.92182884e-01,   8.13163817e-03,\n",
       "          1.28230721e-01,  -1.44998446e-01,   5.59815541e-02,\n",
       "          1.59052029e-01,   1.57094076e-01,   7.56966695e-02,\n",
       "         -9.40001607e-02],\n",
       "       [ -2.00262636e-01,  -8.07795227e-02,  -1.17595583e-01,\n",
       "         -5.23502119e-02,   1.68599010e-01,   1.66656524e-01,\n",
       "          1.31903961e-01,   1.56801447e-01,   9.71998200e-02,\n",
       "          1.28972352e-01],\n",
       "       [ -1.67896360e-01,  -4.93157655e-02,   1.74246788e-01,\n",
       "          1.79197658e-02,   1.15012757e-01,   8.39006379e-02,\n",
       "         -2.03123629e-01,   1.60077825e-01,  -1.97420463e-01,\n",
       "         -1.86436012e-01],\n",
       "       [ -1.33750588e-01,  -1.08774893e-01,  -5.76064140e-02,\n",
       "          1.31180644e-01,   8.13659430e-02,   1.00949612e-02,\n",
       "         -1.49241373e-01,   8.44427720e-02,   8.33959971e-03,\n",
       "         -1.04770884e-02]], dtype=float32)"
      ]
     },
     "execution_count": 69,
     "metadata": {},
     "output_type": "execute_result"
    }
   ],
   "source": [
    "r"
   ]
  },
  {
   "cell_type": "code",
   "execution_count": null,
   "metadata": {
    "collapsed": false,
    "deletable": true,
    "editable": true
   },
   "outputs": [],
   "source": [
    "tf.get_s"
   ]
  }
 ],
 "metadata": {
  "kernelspec": {
   "display_name": "OptiPy3",
   "language": "python",
   "name": "kernels"
  },
  "nbTranslate": {
   "displayLangs": [
    "ru",
    "en"
   ],
   "hotkey": "alt-t",
   "langInMainMenu": true,
   "sourceLang": "en",
   "targetLang": "ru",
   "useGoogleTranslate": true
  },
  "notify_time": "10"
 },
 "nbformat": 4,
 "nbformat_minor": 2
}
